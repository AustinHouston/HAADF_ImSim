{
 "cells": [
  {
   "cell_type": "code",
   "execution_count": 1,
   "metadata": {},
   "outputs": [
    {
     "name": "stdout",
     "output_type": "stream",
     "text": [
      "# conda environments:\n",
      "#\n",
      "                         /lustre/isaac/scratch/ahoust17/aidml\n",
      "                         /lustre/isaac/scratch/ahoust17/ase_env\n",
      "                         /lustre/isaac/scratch/ahoust17/gpaw\n",
      "                         /lustre/isaac/scratch/ahoust17/myapps/conda_env/abtem_test\n",
      "BO_env                   /nfs/home/ahoust17/.conda/envs/BO_env\n",
      "abtem                    /nfs/home/ahoust17/.conda/envs/abtem\n",
      "gpaw_env                 /nfs/home/ahoust17/.conda/envs/gpaw_env\n",
      "pyTEMlib                 /nfs/home/ahoust17/.conda/envs/pyTEMlib\n",
      "torch_env                /nfs/home/ahoust17/.conda/envs/torch_env\n",
      "                         /nfs/home/ahoust17/conda_envs/abtem_env\n",
      "base                     /sw/isaac/applications/anaconda3/2023.09/rhel8_cascadelake_binary/anaconda3-2023.09\n",
      "\n"
     ]
    }
   ],
   "source": [
    "!conda env list"
   ]
  },
  {
   "cell_type": "code",
   "execution_count": 1,
   "metadata": {},
   "outputs": [],
   "source": [
    "import abtem\n",
    "import ase\n",
    "from ase.io import read\n",
    "from ase.visualize import view\n",
    "import matplotlib.pyplot as plt\n",
    "import numpy as np\n",
    "%matplotlib ipympl\n",
    "\n",
    "\n",
    "import numpy as np\n",
    "from ase.neighborlist import NeighborList\n",
    "\n",
    "from ase import Atoms\n",
    "from ase.build import bulk\n",
    "from scipy.ndimage import rotate"
   ]
  },
  {
   "cell_type": "code",
   "execution_count": 2,
   "metadata": {},
   "outputs": [],
   "source": [
    "def read_and_translate_new_format(input_file, output_file):\n",
    "    print('Reading')\n",
    "    with open(input_file, 'r') as f:\n",
    "        lines = f.readlines()\n",
    "\n",
    "    print(f\"Read {len(lines)} lines from the input file.\")\n",
    "    print(f\"First 10 lines: {lines[:10]}\")\n",
    "    # Parse lattice constants\n",
    "    a, b, c = None, None, None\n",
    "    for line in lines:\n",
    "        if '_cell_length_a' in line:\n",
    "            a = float(line.split()[1])\n",
    "        elif '_cell_length_b' in line:\n",
    "            b = float(line.split()[1])\n",
    "        elif '_cell_length_c' in line:\n",
    "            c = float(line.split()[1])\n",
    "\n",
    "    print(a, b, c)\n",
    "    if None in (a, b, c):\n",
    "        raise ValueError(\"Cell lengths a, b, or c not found in the input file.\")\n",
    "    \n",
    "    print(f\"Lattice parameters: a={a}, b={b}, c={c}\")\n",
    "\n",
    "    # Find the atom site data\n",
    "    atom_data_start = None\n",
    "    for i, line in enumerate(lines):\n",
    "        if '_atom_site_fract_z' in line:  # Identify the line after the header\n",
    "            atom_data_start = i + 1\n",
    "            break\n",
    "    \n",
    "    if atom_data_start is None:\n",
    "        raise ValueError(\"Atom site data not found in the input file.\")\n",
    "    \n",
    "    print(f\"Atom site data starts at line {atom_data_start}.\")\n",
    "\n",
    "    # Extract atom site data\n",
    "    atom_sites = []\n",
    "    for line in lines[atom_data_start:]:\n",
    "        parts = line.split()\n",
    "        if len(parts) < 5:  # Stop if the loop_ section ends or there are fewer columns\n",
    "            break\n",
    "        try:\n",
    "            _, element, x, y, z = parts\n",
    "            atom_sites.append(('Fe', float(x), float(y), float(z)))\n",
    "        except ValueError as e:\n",
    "            print(f\"Error parsing line: {line}\")\n",
    "            continue\n",
    "    \n",
    "    if not atom_sites:\n",
    "        raise ValueError(\"No atom site data extracted from the file.\")\n",
    "\n",
    "    print(f\"Extracted {len(atom_sites)} atom sites.\")\n",
    "\n",
    "    # Convert fractional coordinates to Cartesian coordinates\n",
    "    converted_atoms = []\n",
    "    for element, x, y, z in atom_sites:\n",
    "        x_cartesian = x * a\n",
    "        y_cartesian = y * b\n",
    "        z_cartesian = z * c\n",
    "        converted_atoms.append((element, x_cartesian, y_cartesian, z_cartesian))\n",
    "    \n",
    "    print(f\"Converted {len(converted_atoms)} atoms to Cartesian coordinates.\")\n",
    "\n",
    "    # Write to the output file\n",
    "    with open(output_file, 'w') as f:\n",
    "        f.write(f\"{len(converted_atoms)}\\n\\n\")  # Write the number of atoms\n",
    "        for element, x, y, z in converted_atoms:\n",
    "            f.write(f\"{element} {x:.6f} {y:.6f} {z:.6f}\\n\")\n",
    "    \n",
    "    print(f\"Translation complete! Output saved to {output_file}\")\n",
    "\n"
   ]
  },
  {
   "cell_type": "code",
   "execution_count": 4,
   "metadata": {},
   "outputs": [
    {
     "name": "stdout",
     "output_type": "stream",
     "text": [
      "Reading\n",
      "Read 686279 lines from the input file.\n",
      "First 10 lines: ['data_generated\\n', '_cell_length_a    200.044895\\n', '_cell_length_b    200.061307\\n', '_cell_length_c    200.045114\\n', '_cell_angle_alpha  90.000\\n', '_cell_angle_beta   90.000\\n', '_cell_angle_gamma  90.000\\n', '\\n', 'loop_\\n', '_atom_site_label\\n']\n",
      "200.044895 200.061307 200.045114\n",
      "Lattice parameters: a=200.044895, b=200.061307, c=200.045114\n",
      "Atom site data starts at line 14.\n",
      "Extracted 686265 atom sites.\n",
      "Converted 686265 atoms to Cartesian coordinates.\n",
      "Translation complete! Output saved to /Users/austin/Desktop/Projects/BCC_Iron_Yao/4nm_loop_on_111_plane_cif_files/4nm_111111_loop_20nm_sys_structure.xyz\n"
     ]
    }
   ],
   "source": [
    "# Specify the input and output file paths\n",
    "input_file = \"/Users/austin/Desktop/Projects/BCC_Iron_Yao/4nm_loop_on_111_plane_cif_files/4nm_111111_loop_20nm_sys_structure.cif\" \n",
    "output_file = \"/Users/austin/Desktop/Projects/BCC_Iron_Yao/4nm_loop_on_111_plane_cif_files/4nm_111111_loop_20nm_sys_structure.xyz\" \n",
    "\n",
    "# Run the function\n",
    "read_and_translate_new_format(input_file, output_file)"
   ]
  },
  {
   "cell_type": "code",
   "execution_count": 5,
   "metadata": {},
   "outputs": [
    {
     "data": {
      "text/plain": [
       "<abtem.core.config.set at 0x30246c210>"
      ]
     },
     "execution_count": 5,
     "metadata": {},
     "output_type": "execute_result"
    }
   ],
   "source": [
    "abtem.config.set({\"device\": \"cpu\", \"fft\": \"fftw\"})"
   ]
  },
  {
   "cell_type": "code",
   "execution_count": null,
   "metadata": {},
   "outputs": [],
   "source": [
    "# atoms = read('./BCC_iron.cif') * (3, 3, 3)\n",
    "atoms = read('to_sim_4nm_100_loop.xyz', format='xyz')\n",
    "a = 200.05\n",
    "cell = [a, a, a]               \n",
    "atoms.set_cell(cell)   \n",
    "atoms.rotate(90, 'x', rotate_cell=True)\n"
   ]
  },
  {
   "cell_type": "code",
   "execution_count": null,
   "metadata": {},
   "outputs": [],
   "source": [
    "# find n_cells on all the edges,\n",
    "# make slabs of that size.\n",
    "# alight the atoms at the edge of the slab with the loop cell\n",
    "# shift the slab so that edge atoms exactly align with the atoms at the edge of the loop cell\n",
    "# delete the atoms that now overlap at the edge\n",
    "\n"
   ]
  },
  {
   "cell_type": "code",
   "execution_count": null,
   "metadata": {},
   "outputs": [],
   "source": [
    "fig, (ax1, ax2) = plt.subplots(1, 2, figsize=(12, 4))\n",
    "abtem.show_atoms(atoms, ax=ax1, title=\"Beam view\", merge=False)\n",
    "abtem.show_atoms(atoms, ax=ax2, plane=\"xz\", title=\"Side view\", legend=True);"
   ]
  },
  {
   "cell_type": "code",
   "execution_count": null,
   "metadata": {},
   "outputs": [],
   "source": [
    "atoms.cell"
   ]
  },
  {
   "cell_type": "code",
   "execution_count": null,
   "metadata": {},
   "outputs": [],
   "source": [
    "tilt = 4 * np.sqrt(2)\n",
    "atoms.rotate(tilt, 'x', rotate_cell=False, center='COU')\n",
    "atoms.rotate(-tilt, 'y', rotate_cell=False, center='COU')"
   ]
  },
  {
   "cell_type": "code",
   "execution_count": null,
   "metadata": {},
   "outputs": [],
   "source": [
    "fig, (ax1, ax2) = plt.subplots(1, 2, figsize=(12, 4))\n",
    "abtem.show_atoms(atoms, ax=ax1, title=\"Beam view\", merge=False)\n",
    "abtem.show_atoms(atoms, ax=ax2, plane=\"xz\", title=\"Side view\", legend=True);"
   ]
  },
  {
   "cell_type": "code",
   "execution_count": null,
   "metadata": {},
   "outputs": [],
   "source": [
    "# Wrap the atoms into the current cell to ensure they're within bounds\n",
    "atoms.wrap()\n",
    "\n",
    "# Update the cell to fit tightly around the atoms\n",
    "#atoms.cell = atoms.get_positions().ptp(axis=0)  # Point-to-point extent along each axis\n",
    "\n",
    "# Optional: Center the atoms within the new cell\n",
    "#atoms.center()\n",
    "\n",
    "# Check the updated cell\n",
    "print(f\"New cell dimensions:\\n{atoms.get_cell()}\")"
   ]
  },
  {
   "cell_type": "code",
   "execution_count": null,
   "metadata": {},
   "outputs": [],
   "source": [
    "print(f\"Number of atoms: {len(atoms)}\")"
   ]
  },
  {
   "cell_type": "code",
   "execution_count": null,
   "metadata": {},
   "outputs": [],
   "source": [
    "fig, (ax1, ax2) = plt.subplots(1, 2, figsize=(12, 4))\n",
    "abtem.show_atoms(atoms, ax=ax1, title=\"Beam view\", merge=False)\n",
    "abtem.show_atoms(atoms, ax=ax2, plane=\"xz\", title=\"Side view\", legend=True);"
   ]
  },
  {
   "cell_type": "code",
   "execution_count": null,
   "metadata": {},
   "outputs": [],
   "source": [
    "frozen_phonons = abtem.FrozenPhonons(atoms, 8, sigmas=0.1)\n",
    "potential = abtem.Potential(frozen_phonons, sampling=0.03)"
   ]
  },
  {
   "cell_type": "code",
   "execution_count": null,
   "metadata": {},
   "outputs": [],
   "source": [
    "probe = abtem.Probe(energy=200e3, semiangle_cutoff=4.5, Cs=10e4, defocus=10)\n",
    "probe.grid.match(potential)\n",
    "\n",
    "print(f\"defocus = {probe.aberrations.defocus} Å\")\n",
    "print(f\"FWHM = {probe.profiles().width().compute()} Å\")\n",
    "\n",
    "fig, (ax1, ax2) = plt.subplots(1, 2, figsize=(12, 4))\n",
    "probe.show(ax=ax1)\n",
    "probe.profiles().show(ax=ax2);\n"
   ]
  },
  {
   "cell_type": "markdown",
   "metadata": {},
   "source": [
    "### Try PRISM"
   ]
  },
  {
   "cell_type": "code",
   "execution_count": null,
   "metadata": {},
   "outputs": [],
   "source": [
    "s_matrix = abtem.SMatrix(\n",
    "    potential=potential,\n",
    "    energy=200e3,\n",
    "    semiangle_cutoff=4.5,\n",
    "    interpolation=4\n",
    ")\n",
    "s_matrix.build()\n"
   ]
  },
  {
   "cell_type": "markdown",
   "metadata": {},
   "source": [
    "### Check the sampling by looking at the entrance and exit probe"
   ]
  },
  {
   "cell_type": "code",
   "execution_count": null,
   "metadata": {},
   "outputs": [],
   "source": [
    "Cs = 8e-6 * 1e10  # 20 micrometers\n",
    "ctf = abtem.CTF(Cs=Cs, defocus=\"scherzer\", energy=s_matrix.energy)\n",
    "print(f\"defocus = {ctf.defocus} Å\")"
   ]
  },
  {
   "cell_type": "code",
   "execution_count": null,
   "metadata": {},
   "outputs": [],
   "source": [
    "fig, (ax1, ax2) = plt.subplots(1, 2, figsize=(12, 4))\n",
    "s_matrix.dummy_probes(plane=\"entrance\", ctf=ctf).show(ax=ax1, title=\"entrance\", power=1)\n",
    "s_matrix.dummy_probes(plane=\"exit\", ctf=ctf).show(ax=ax2, title=\"exit\", power=1);"
   ]
  },
  {
   "cell_type": "markdown",
   "metadata": {},
   "source": [
    "### Set up the scan/ detector/ measurement"
   ]
  },
  {
   "cell_type": "code",
   "execution_count": null,
   "metadata": {},
   "outputs": [],
   "source": [
    "# pixelated detector\n",
    "detector = abtem.PixelatedDetector(max_angle = 40)\n",
    "\n",
    "# scan sampling\n",
    "sampling = abtem.transfer.nyquist_sampling(s_matrix.semiangle_cutoff, s_matrix.energy)\n",
    "print(f\"Sampling: {sampling:.2f} Å^-1\")\n",
    "\n",
    "scan = abtem.GridScan(\n",
    "    start=(0, 0),\n",
    "    end=(1,1),\n",
    "    fractional=True,\n",
    "    potential=potential,\n",
    "    sampling=sampling,\n",
    ")\n",
    "\n",
    "print(f\"Number of probe positions: {len(scan)}\")\n",
    "print(f\"Number of plane waves: {len(s_matrix)}\")\n",
    "print(f\"Ratio: {len(scan) / len(s_matrix):.1f}\")"
   ]
  },
  {
   "cell_type": "code",
   "execution_count": null,
   "metadata": {},
   "outputs": [],
   "source": [
    "measurement= s_matrix.scan(\n",
    "    scan=scan,\n",
    "    detectors=detector,\n",
    ")\n",
    "\n",
    "measurement.axes_metadata"
   ]
  },
  {
   "cell_type": "code",
   "execution_count": null,
   "metadata": {},
   "outputs": [],
   "source": [
    "measurement.compute()"
   ]
  },
  {
   "cell_type": "code",
   "execution_count": null,
   "metadata": {},
   "outputs": [],
   "source": []
  }
 ],
 "metadata": {
  "kernelspec": {
   "display_name": "pytemlib_2025",
   "language": "python",
   "name": "python3"
  },
  "language_info": {
   "codemirror_mode": {
    "name": "ipython",
    "version": 3
   },
   "file_extension": ".py",
   "mimetype": "text/x-python",
   "name": "python",
   "nbconvert_exporter": "python",
   "pygments_lexer": "ipython3",
   "version": "3.11.11"
  }
 },
 "nbformat": 4,
 "nbformat_minor": 4
}
